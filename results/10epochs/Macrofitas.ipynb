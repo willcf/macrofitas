version https://git-lfs.github.com/spec/v1
oid sha256:f56c12e276ef7a21bafec0089e8fa557b8debb9413d6cdcf81f50375d905f3a8
size 30557860
