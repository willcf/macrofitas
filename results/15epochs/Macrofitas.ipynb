version https://git-lfs.github.com/spec/v1
oid sha256:4ddf8d298fa6b80bc17f5b3c41c78041fb34494b50e688f9c130f20f830bd020
size 44175555
