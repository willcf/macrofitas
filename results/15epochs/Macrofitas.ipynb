version https://git-lfs.github.com/spec/v1
oid sha256:da0002282f3858e0671d7b005f8129687237bdb6ebd57796ff1e7f6f805a9716
size 30478110
