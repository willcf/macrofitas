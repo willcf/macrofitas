version https://git-lfs.github.com/spec/v1
oid sha256:5e12331434e48c5cbd6606b820b1e4d6e8ab1fb6d1069ebd57bd226319041b2e
size 30480248
