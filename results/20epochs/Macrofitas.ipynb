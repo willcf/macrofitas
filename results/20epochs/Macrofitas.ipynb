version https://git-lfs.github.com/spec/v1
oid sha256:6a52e8c2b3d7ff3c99c5f0c509eb8383161a8cfea8ef2d47c6bd8721481fac45
size 11634677
