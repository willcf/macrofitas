version https://git-lfs.github.com/spec/v1
oid sha256:06cfa57e6cd89e94ce1c2d4bcc01d5a85c722a164f81a1b297a89e4c3fa88035
size 29995363
