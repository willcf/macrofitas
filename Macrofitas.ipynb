version https://git-lfs.github.com/spec/v1
oid sha256:0b504bca56766e95548c61139861f1f80248be69c2300eb9a700ec7c64fbae37
size 24876466
